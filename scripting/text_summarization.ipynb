{
 "cells": [
  {
   "cell_type": "markdown",
   "metadata": {},
   "source": [
    "Imports"
   ]
  },
  {
   "cell_type": "code",
   "execution_count": 1,
   "metadata": {},
   "outputs": [
    {
     "name": "stderr",
     "output_type": "stream",
     "text": [
      "/Library/Frameworks/Python.framework/Versions/3.10/lib/python3.10/site-packages/tqdm/auto.py:22: TqdmWarning: IProgress not found. Please update jupyter and ipywidgets. See https://ipywidgets.readthedocs.io/en/stable/user_install.html\n",
      "  from .autonotebook import tqdm as notebook_tqdm\n"
     ]
    }
   ],
   "source": [
    "from transformers import PegasusForConditionalGeneration, PegasusTokenizer\n",
    "import pandas as pd \n",
    "import numpy as np\n",
    "model_name = \"google/pegasus-xsum\""
   ]
  },
  {
   "cell_type": "code",
   "execution_count": 2,
   "metadata": {},
   "outputs": [],
   "source": [
    "df = pd.read_csv('articles.csv')"
   ]
  },
  {
   "cell_type": "code",
   "execution_count": 3,
   "metadata": {},
   "outputs": [],
   "source": [
    "tokenizer = PegasusTokenizer.from_pretrained(model_name)"
   ]
  },
  {
   "cell_type": "code",
   "execution_count": 4,
   "metadata": {},
   "outputs": [
    {
     "name": "stderr",
     "output_type": "stream",
     "text": [
      "Downloading (…)\"pytorch_model.bin\";: 100%|██████████| 2.28G/2.28G [12:00<00:00, 3.16MB/s]\n",
      "Downloading (…)neration_config.json: 100%|██████████| 259/259 [00:00<00:00, 68.3kB/s]\n"
     ]
    }
   ],
   "source": [
    "model = PegasusForConditionalGeneration.from_pretrained(model_name)"
   ]
  },
  {
   "cell_type": "code",
   "execution_count": 6,
   "metadata": {},
   "outputs": [
    {
     "data": {
      "text/html": [
       "<div>\n",
       "<style scoped>\n",
       "    .dataframe tbody tr th:only-of-type {\n",
       "        vertical-align: middle;\n",
       "    }\n",
       "\n",
       "    .dataframe tbody tr th {\n",
       "        vertical-align: top;\n",
       "    }\n",
       "\n",
       "    .dataframe thead th {\n",
       "        text-align: right;\n",
       "    }\n",
       "</style>\n",
       "<table border=\"1\" class=\"dataframe\">\n",
       "  <thead>\n",
       "    <tr style=\"text-align: right;\">\n",
       "      <th></th>\n",
       "      <th>title</th>\n",
       "      <th>link</th>\n",
       "      <th>published</th>\n",
       "      <th>text</th>\n",
       "      <th>text_length</th>\n",
       "    </tr>\n",
       "  </thead>\n",
       "  <tbody>\n",
       "    <tr>\n",
       "      <th>0</th>\n",
       "      <td>Chevron, Comcast, and 10 More Companies That R...</td>\n",
       "      <td>https://www.barrons.com/articles/chevron-comca...</td>\n",
       "      <td>2023-01-28</td>\n",
       "      <td>NaN</td>\n",
       "      <td>0</td>\n",
       "    </tr>\n",
       "    <tr>\n",
       "      <th>1</th>\n",
       "      <td>This janitor in Vermont amassed an $8M fortune...</td>\n",
       "      <td>https://finance.yahoo.com/news/janitor-vermont...</td>\n",
       "      <td>2023-01-28</td>\n",
       "      <td>warren buffett is reported to have once said  ...</td>\n",
       "      <td>4369</td>\n",
       "    </tr>\n",
       "    <tr>\n",
       "      <th>2</th>\n",
       "      <td>New 'PELOSI' bill may have a spiteful name — b...</td>\n",
       "      <td>https://finance.yahoo.com/news/american-people...</td>\n",
       "      <td>2023-01-28</td>\n",
       "      <td>in a mic drop moment in the debate around insi...</td>\n",
       "      <td>5610</td>\n",
       "    </tr>\n",
       "    <tr>\n",
       "      <th>3</th>\n",
       "      <td>Lucid stock soars amid Saudi buyout speculation</td>\n",
       "      <td>https://finance.yahoo.com/news/lucid-stock-soa...</td>\n",
       "      <td>2023-01-28</td>\n",
       "      <td>lucid  lcid  shares soared as much as     on f...</td>\n",
       "      <td>2198</td>\n",
       "    </tr>\n",
       "    <tr>\n",
       "      <th>4</th>\n",
       "      <td>Billionaire Adani's Empire Loses $51 Billion i...</td>\n",
       "      <td>https://www.thestreet.com/technology/billionai...</td>\n",
       "      <td>2023-01-28</td>\n",
       "      <td>suspicion is creating chaos in the empire buil...</td>\n",
       "      <td>6857</td>\n",
       "    </tr>\n",
       "  </tbody>\n",
       "</table>\n",
       "</div>"
      ],
      "text/plain": [
       "                                               title  \\\n",
       "0  Chevron, Comcast, and 10 More Companies That R...   \n",
       "1  This janitor in Vermont amassed an $8M fortune...   \n",
       "2  New 'PELOSI' bill may have a spiteful name — b...   \n",
       "3    Lucid stock soars amid Saudi buyout speculation   \n",
       "4  Billionaire Adani's Empire Loses $51 Billion i...   \n",
       "\n",
       "                                                link        published  \\\n",
       "0  https://www.barrons.com/articles/chevron-comca...       2023-01-28   \n",
       "1  https://finance.yahoo.com/news/janitor-vermont...       2023-01-28   \n",
       "2  https://finance.yahoo.com/news/american-people...       2023-01-28   \n",
       "3  https://finance.yahoo.com/news/lucid-stock-soa...       2023-01-28   \n",
       "4  https://www.thestreet.com/technology/billionai...       2023-01-28   \n",
       "\n",
       "                                                text  text_length  \n",
       "0                                                NaN            0  \n",
       "1  warren buffett is reported to have once said  ...         4369  \n",
       "2  in a mic drop moment in the debate around insi...         5610  \n",
       "3  lucid  lcid  shares soared as much as     on f...         2198  \n",
       "4  suspicion is creating chaos in the empire buil...         6857  "
      ]
     },
     "execution_count": 6,
     "metadata": {},
     "output_type": "execute_result"
    }
   ],
   "source": [
    "df.head()"
   ]
  },
  {
   "cell_type": "code",
   "execution_count": 7,
   "metadata": {},
   "outputs": [
    {
     "data": {
      "text/html": [
       "<div>\n",
       "<style scoped>\n",
       "    .dataframe tbody tr th:only-of-type {\n",
       "        vertical-align: middle;\n",
       "    }\n",
       "\n",
       "    .dataframe tbody tr th {\n",
       "        vertical-align: top;\n",
       "    }\n",
       "\n",
       "    .dataframe thead th {\n",
       "        text-align: right;\n",
       "    }\n",
       "</style>\n",
       "<table border=\"1\" class=\"dataframe\">\n",
       "  <thead>\n",
       "    <tr style=\"text-align: right;\">\n",
       "      <th></th>\n",
       "      <th>title</th>\n",
       "      <th>link</th>\n",
       "      <th>published</th>\n",
       "      <th>text</th>\n",
       "      <th>text_length</th>\n",
       "    </tr>\n",
       "  </thead>\n",
       "  <tbody>\n",
       "    <tr>\n",
       "      <th>1</th>\n",
       "      <td>This janitor in Vermont amassed an $8M fortune...</td>\n",
       "      <td>https://finance.yahoo.com/news/janitor-vermont...</td>\n",
       "      <td>2023-01-28</td>\n",
       "      <td>warren buffett is reported to have once said  ...</td>\n",
       "      <td>4369</td>\n",
       "    </tr>\n",
       "    <tr>\n",
       "      <th>2</th>\n",
       "      <td>New 'PELOSI' bill may have a spiteful name — b...</td>\n",
       "      <td>https://finance.yahoo.com/news/american-people...</td>\n",
       "      <td>2023-01-28</td>\n",
       "      <td>in a mic drop moment in the debate around insi...</td>\n",
       "      <td>5610</td>\n",
       "    </tr>\n",
       "    <tr>\n",
       "      <th>3</th>\n",
       "      <td>Lucid stock soars amid Saudi buyout speculation</td>\n",
       "      <td>https://finance.yahoo.com/news/lucid-stock-soa...</td>\n",
       "      <td>2023-01-28</td>\n",
       "      <td>lucid  lcid  shares soared as much as     on f...</td>\n",
       "      <td>2198</td>\n",
       "    </tr>\n",
       "    <tr>\n",
       "      <th>4</th>\n",
       "      <td>Billionaire Adani's Empire Loses $51 Billion i...</td>\n",
       "      <td>https://www.thestreet.com/technology/billionai...</td>\n",
       "      <td>2023-01-28</td>\n",
       "      <td>suspicion is creating chaos in the empire buil...</td>\n",
       "      <td>6857</td>\n",
       "    </tr>\n",
       "    <tr>\n",
       "      <th>7</th>\n",
       "      <td>J.P. Morgan Says Now Could Be a Good Time to B...</td>\n",
       "      <td>https://finance.yahoo.com/news/j-p-morgan-says...</td>\n",
       "      <td>2023-01-28</td>\n",
       "      <td>in todays digital world  there will always be ...</td>\n",
       "      <td>7355</td>\n",
       "    </tr>\n",
       "  </tbody>\n",
       "</table>\n",
       "</div>"
      ],
      "text/plain": [
       "                                               title  \\\n",
       "1  This janitor in Vermont amassed an $8M fortune...   \n",
       "2  New 'PELOSI' bill may have a spiteful name — b...   \n",
       "3    Lucid stock soars amid Saudi buyout speculation   \n",
       "4  Billionaire Adani's Empire Loses $51 Billion i...   \n",
       "7  J.P. Morgan Says Now Could Be a Good Time to B...   \n",
       "\n",
       "                                                link        published  \\\n",
       "1  https://finance.yahoo.com/news/janitor-vermont...       2023-01-28   \n",
       "2  https://finance.yahoo.com/news/american-people...       2023-01-28   \n",
       "3  https://finance.yahoo.com/news/lucid-stock-soa...       2023-01-28   \n",
       "4  https://www.thestreet.com/technology/billionai...       2023-01-28   \n",
       "7  https://finance.yahoo.com/news/j-p-morgan-says...       2023-01-28   \n",
       "\n",
       "                                                text  text_length  \n",
       "1  warren buffett is reported to have once said  ...         4369  \n",
       "2  in a mic drop moment in the debate around insi...         5610  \n",
       "3  lucid  lcid  shares soared as much as     on f...         2198  \n",
       "4  suspicion is creating chaos in the empire buil...         6857  \n",
       "7  in todays digital world  there will always be ...         7355  "
      ]
     },
     "execution_count": 7,
     "metadata": {},
     "output_type": "execute_result"
    }
   ],
   "source": [
    "# drop nan values\n",
    "df = df.dropna()\n",
    "df.head()"
   ]
  },
  {
   "cell_type": "code",
   "execution_count": 9,
   "metadata": {},
   "outputs": [
    {
     "name": "stderr",
     "output_type": "stream",
     "text": [
      "/Library/Frameworks/Python.framework/Versions/3.10/lib/python3.10/site-packages/transformers/generation/utils.py:1273: UserWarning: Neither `max_length` nor `max_new_tokens` has been set, `max_length` will default to 64 (`generation_config.max_length`). Controlling `max_length` via the config is deprecated and `max_length` will be removed from the config in v5 of Transformers -- we recommend using `max_new_tokens` to control the maximum length of the generation.\n",
      "  warnings.warn(\n"
     ]
    },
    {
     "data": {
      "text/html": [
       "<div>\n",
       "<style scoped>\n",
       "    .dataframe tbody tr th:only-of-type {\n",
       "        vertical-align: middle;\n",
       "    }\n",
       "\n",
       "    .dataframe tbody tr th {\n",
       "        vertical-align: top;\n",
       "    }\n",
       "\n",
       "    .dataframe thead th {\n",
       "        text-align: right;\n",
       "    }\n",
       "</style>\n",
       "<table border=\"1\" class=\"dataframe\">\n",
       "  <thead>\n",
       "    <tr style=\"text-align: right;\">\n",
       "      <th></th>\n",
       "      <th>title</th>\n",
       "      <th>link</th>\n",
       "      <th>published</th>\n",
       "      <th>text</th>\n",
       "      <th>text_length</th>\n",
       "      <th>summary</th>\n",
       "    </tr>\n",
       "  </thead>\n",
       "  <tbody>\n",
       "    <tr>\n",
       "      <th>1</th>\n",
       "      <td>This janitor in Vermont amassed an $8M fortune...</td>\n",
       "      <td>https://finance.yahoo.com/news/janitor-vermont...</td>\n",
       "      <td>2023-01-28</td>\n",
       "      <td>warren buffett is reported to have once said  ...</td>\n",
       "      <td>4369</td>\n",
       "      <td>If you want to be ultra rich you don t have to...</td>\n",
       "    </tr>\n",
       "    <tr>\n",
       "      <th>2</th>\n",
       "      <td>New 'PELOSI' bill may have a spiteful name — b...</td>\n",
       "      <td>https://finance.yahoo.com/news/american-people...</td>\n",
       "      <td>2023-01-28</td>\n",
       "      <td>in a mic drop moment in the debate around insi...</td>\n",
       "      <td>5610</td>\n",
       "      <td>The latest attempt to stop members of congress...</td>\n",
       "    </tr>\n",
       "    <tr>\n",
       "      <th>3</th>\n",
       "      <td>Lucid stock soars amid Saudi buyout speculation</td>\n",
       "      <td>https://finance.yahoo.com/news/lucid-stock-soa...</td>\n",
       "      <td>2023-01-28</td>\n",
       "      <td>lucid  lcid  shares soared as much as     on f...</td>\n",
       "      <td>2198</td>\n",
       "      <td>Shares in electric car maker lucid have been o...</td>\n",
       "    </tr>\n",
       "    <tr>\n",
       "      <th>4</th>\n",
       "      <td>Billionaire Adani's Empire Loses $51 Billion i...</td>\n",
       "      <td>https://www.thestreet.com/technology/billionai...</td>\n",
       "      <td>2023-01-28</td>\n",
       "      <td>suspicion is creating chaos in the empire buil...</td>\n",
       "      <td>6857</td>\n",
       "      <td>Billionaire gautam adani has been caught up in...</td>\n",
       "    </tr>\n",
       "    <tr>\n",
       "      <th>7</th>\n",
       "      <td>J.P. Morgan Says Now Could Be a Good Time to B...</td>\n",
       "      <td>https://finance.yahoo.com/news/j-p-morgan-says...</td>\n",
       "      <td>2023-01-28</td>\n",
       "      <td>in todays digital world  there will always be ...</td>\n",
       "      <td>7355</td>\n",
       "      <td>cybersecurity has become a major priority for ...</td>\n",
       "    </tr>\n",
       "  </tbody>\n",
       "</table>\n",
       "</div>"
      ],
      "text/plain": [
       "                                               title  \\\n",
       "1  This janitor in Vermont amassed an $8M fortune...   \n",
       "2  New 'PELOSI' bill may have a spiteful name — b...   \n",
       "3    Lucid stock soars amid Saudi buyout speculation   \n",
       "4  Billionaire Adani's Empire Loses $51 Billion i...   \n",
       "7  J.P. Morgan Says Now Could Be a Good Time to B...   \n",
       "\n",
       "                                                link        published  \\\n",
       "1  https://finance.yahoo.com/news/janitor-vermont...       2023-01-28   \n",
       "2  https://finance.yahoo.com/news/american-people...       2023-01-28   \n",
       "3  https://finance.yahoo.com/news/lucid-stock-soa...       2023-01-28   \n",
       "4  https://www.thestreet.com/technology/billionai...       2023-01-28   \n",
       "7  https://finance.yahoo.com/news/j-p-morgan-says...       2023-01-28   \n",
       "\n",
       "                                                text  text_length  \\\n",
       "1  warren buffett is reported to have once said  ...         4369   \n",
       "2  in a mic drop moment in the debate around insi...         5610   \n",
       "3  lucid  lcid  shares soared as much as     on f...         2198   \n",
       "4  suspicion is creating chaos in the empire buil...         6857   \n",
       "7  in todays digital world  there will always be ...         7355   \n",
       "\n",
       "                                             summary  \n",
       "1  If you want to be ultra rich you don t have to...  \n",
       "2  The latest attempt to stop members of congress...  \n",
       "3  Shares in electric car maker lucid have been o...  \n",
       "4  Billionaire gautam adani has been caught up in...  \n",
       "7  cybersecurity has become a major priority for ...  "
      ]
     },
     "execution_count": 9,
     "metadata": {},
     "output_type": "execute_result"
    }
   ],
   "source": [
    "# for each text in the dataframe, generate a summary\n",
    "summaries = []\n",
    "for text in df['text']:\n",
    "    tokens = tokenizer(text, truncation=True, padding=\"longest\", return_tensors=\"pt\")\n",
    "    translated = model.generate(**tokens)\n",
    "    tgt_text = tokenizer.batch_decode(translated, skip_special_tokens=True)\n",
    "    summaries.append(tgt_text[0])\n",
    "\n",
    "# add the summaries to the dataframe\n",
    "df['summary'] = summaries\n",
    "df.head()"
   ]
  },
  {
   "cell_type": "code",
   "execution_count": 10,
   "metadata": {},
   "outputs": [
    {
     "data": {
      "text/html": [
       "<div>\n",
       "<style scoped>\n",
       "    .dataframe tbody tr th:only-of-type {\n",
       "        vertical-align: middle;\n",
       "    }\n",
       "\n",
       "    .dataframe tbody tr th {\n",
       "        vertical-align: top;\n",
       "    }\n",
       "\n",
       "    .dataframe thead th {\n",
       "        text-align: right;\n",
       "    }\n",
       "</style>\n",
       "<table border=\"1\" class=\"dataframe\">\n",
       "  <thead>\n",
       "    <tr style=\"text-align: right;\">\n",
       "      <th></th>\n",
       "      <th>title</th>\n",
       "      <th>link</th>\n",
       "      <th>published</th>\n",
       "      <th>text</th>\n",
       "      <th>text_length</th>\n",
       "      <th>summary</th>\n",
       "      <th>summarized_length</th>\n",
       "    </tr>\n",
       "  </thead>\n",
       "  <tbody>\n",
       "    <tr>\n",
       "      <th>1</th>\n",
       "      <td>This janitor in Vermont amassed an $8M fortune...</td>\n",
       "      <td>https://finance.yahoo.com/news/janitor-vermont...</td>\n",
       "      <td>2023-01-28</td>\n",
       "      <td>warren buffett is reported to have once said  ...</td>\n",
       "      <td>4369</td>\n",
       "      <td>If you want to be ultra rich you don t have to...</td>\n",
       "      <td>58</td>\n",
       "    </tr>\n",
       "    <tr>\n",
       "      <th>2</th>\n",
       "      <td>New 'PELOSI' bill may have a spiteful name — b...</td>\n",
       "      <td>https://finance.yahoo.com/news/american-people...</td>\n",
       "      <td>2023-01-28</td>\n",
       "      <td>in a mic drop moment in the debate around insi...</td>\n",
       "      <td>5610</td>\n",
       "      <td>The latest attempt to stop members of congress...</td>\n",
       "      <td>26</td>\n",
       "    </tr>\n",
       "    <tr>\n",
       "      <th>3</th>\n",
       "      <td>Lucid stock soars amid Saudi buyout speculation</td>\n",
       "      <td>https://finance.yahoo.com/news/lucid-stock-soa...</td>\n",
       "      <td>2023-01-28</td>\n",
       "      <td>lucid  lcid  shares soared as much as     on f...</td>\n",
       "      <td>2198</td>\n",
       "      <td>Shares in electric car maker lucid have been o...</td>\n",
       "      <td>17</td>\n",
       "    </tr>\n",
       "    <tr>\n",
       "      <th>4</th>\n",
       "      <td>Billionaire Adani's Empire Loses $51 Billion i...</td>\n",
       "      <td>https://www.thestreet.com/technology/billionai...</td>\n",
       "      <td>2023-01-28</td>\n",
       "      <td>suspicion is creating chaos in the empire buil...</td>\n",
       "      <td>6857</td>\n",
       "      <td>Billionaire gautam adani has been caught up in...</td>\n",
       "      <td>54</td>\n",
       "    </tr>\n",
       "    <tr>\n",
       "      <th>7</th>\n",
       "      <td>J.P. Morgan Says Now Could Be a Good Time to B...</td>\n",
       "      <td>https://finance.yahoo.com/news/j-p-morgan-says...</td>\n",
       "      <td>2023-01-28</td>\n",
       "      <td>in todays digital world  there will always be ...</td>\n",
       "      <td>7355</td>\n",
       "      <td>cybersecurity has become a major priority for ...</td>\n",
       "      <td>18</td>\n",
       "    </tr>\n",
       "  </tbody>\n",
       "</table>\n",
       "</div>"
      ],
      "text/plain": [
       "                                               title  \\\n",
       "1  This janitor in Vermont amassed an $8M fortune...   \n",
       "2  New 'PELOSI' bill may have a spiteful name — b...   \n",
       "3    Lucid stock soars amid Saudi buyout speculation   \n",
       "4  Billionaire Adani's Empire Loses $51 Billion i...   \n",
       "7  J.P. Morgan Says Now Could Be a Good Time to B...   \n",
       "\n",
       "                                                link        published  \\\n",
       "1  https://finance.yahoo.com/news/janitor-vermont...       2023-01-28   \n",
       "2  https://finance.yahoo.com/news/american-people...       2023-01-28   \n",
       "3  https://finance.yahoo.com/news/lucid-stock-soa...       2023-01-28   \n",
       "4  https://www.thestreet.com/technology/billionai...       2023-01-28   \n",
       "7  https://finance.yahoo.com/news/j-p-morgan-says...       2023-01-28   \n",
       "\n",
       "                                                text  text_length  \\\n",
       "1  warren buffett is reported to have once said  ...         4369   \n",
       "2  in a mic drop moment in the debate around insi...         5610   \n",
       "3  lucid  lcid  shares soared as much as     on f...         2198   \n",
       "4  suspicion is creating chaos in the empire buil...         6857   \n",
       "7  in todays digital world  there will always be ...         7355   \n",
       "\n",
       "                                             summary  summarized_length  \n",
       "1  If you want to be ultra rich you don t have to...                 58  \n",
       "2  The latest attempt to stop members of congress...                 26  \n",
       "3  Shares in electric car maker lucid have been o...                 17  \n",
       "4  Billionaire gautam adani has been caught up in...                 54  \n",
       "7  cybersecurity has become a major priority for ...                 18  "
      ]
     },
     "execution_count": 10,
     "metadata": {},
     "output_type": "execute_result"
    }
   ],
   "source": [
    "# create summarized_length column\n",
    "df['summarized_length'] = df['summary'].apply(lambda x: len(x.split()))\n",
    "df.head()"
   ]
  },
  {
   "cell_type": "code",
   "execution_count": 11,
   "metadata": {},
   "outputs": [
    {
     "name": "stdout",
     "output_type": "stream",
     "text": [
      "Average length of articles:  4865.363636363636\n",
      "Average length of summaries:  31.181818181818183\n"
     ]
    }
   ],
   "source": [
    "print(\"Average length of articles: \", df['text_length'].mean())\n",
    "print(\"Average length of summaries: \", df['summarized_length'].mean())\n"
   ]
  },
  {
   "cell_type": "code",
   "execution_count": 12,
   "metadata": {},
   "outputs": [],
   "source": [
    "# save the dataframe to a csv file\n",
    "df.to_csv('articles_summarized.csv', index=False)"
   ]
  },
  {
   "cell_type": "code",
   "execution_count": 15,
   "metadata": {},
   "outputs": [
    {
     "data": {
      "text/plain": [
       "'The latest attempt to stop members of congress from using their position to get rich on the stock market has been introduced in the US Senate.'"
      ]
     },
     "execution_count": 15,
     "metadata": {},
     "output_type": "execute_result"
    }
   ],
   "source": [
    "df.iloc[1]['summary']"
   ]
  }
 ],
 "metadata": {
  "kernelspec": {
   "display_name": "Python 3.10.9 64-bit",
   "language": "python",
   "name": "python3"
  },
  "language_info": {
   "codemirror_mode": {
    "name": "ipython",
    "version": 3
   },
   "file_extension": ".py",
   "mimetype": "text/x-python",
   "name": "python",
   "nbconvert_exporter": "python",
   "pygments_lexer": "ipython3",
   "version": "3.10.9"
  },
  "orig_nbformat": 4,
  "vscode": {
   "interpreter": {
    "hash": "aee8b7b246df8f9039afb4144a1f6fd8d2ca17a180786b69acc140d282b71a49"
   }
  }
 },
 "nbformat": 4,
 "nbformat_minor": 2
}
